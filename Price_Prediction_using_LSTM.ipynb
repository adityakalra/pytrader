{
  "nbformat": 4,
  "nbformat_minor": 0,
  "metadata": {
    "colab": {
      "name": "Price_Prediction_using LSTM.ipynb",
      "provenance": [],
      "private_outputs": true,
      "authorship_tag": "ABX9TyMoNFmyj5dE9roXq44Rw5gV",
      "include_colab_link": true
    },
    "kernelspec": {
      "name": "python3",
      "display_name": "Python 3"
    }
  },
  "cells": [
    {
      "cell_type": "markdown",
      "metadata": {
        "id": "view-in-github",
        "colab_type": "text"
      },
      "source": [
        "<a href=\"https://colab.research.google.com/github/adityakalra/pytrader/blob/master/Price_Prediction_using_LSTM.ipynb\" target=\"_parent\"><img src=\"https://colab.research.google.com/assets/colab-badge.svg\" alt=\"Open In Colab\"/></a>"
      ]
    },
    {
      "cell_type": "markdown",
      "metadata": {
        "id": "G1d_xwCwN4DU",
        "colab_type": "text"
      },
      "source": [
        "# PROJECT :  PRICE PREDICTION Using LSTM (Artifical Recurrent Neural Network)\n",
        "PRICE PREDICTION --> Stock Market\n",
        "SOURCE --> Yahoo\n",
        "ENVIORNMENT --> COLABS, Keras , Skylearn , Math, Pandas, Matplotlib, Numpy , \n"
      ]
    },
    {
      "cell_type": "code",
      "metadata": {
        "id": "YSGj8c0QNNbB",
        "colab_type": "code",
        "colab": {}
      },
      "source": [
        "# import liabraries\n",
        "import math\n",
        "import numpy as np\n",
        "import pandas as pd\n",
        "import matplotlib.pyplot as plt\n",
        "plt.style.use('fivethirtyeight')\n",
        "import pandas_datareader as web\n",
        "from sklearn.preprocessing import MinMaxScaler\n",
        "from keras.models import Sequential\n",
        "from keras.layers import Dense , LSTM"
      ],
      "execution_count": 0,
      "outputs": []
    },
    {
      "cell_type": "code",
      "metadata": {
        "id": "8dg76vqvQiER",
        "colab_type": "code",
        "colab": {}
      },
      "source": [
        "# Create DataFrame & get Stock Quote\n",
        "df = web.DataReader ('AAPL', data_source='yahoo', start='2012-01-01',end= '2019-12-31')\n",
        "#show the DataFrame\n",
        "df"
      ],
      "execution_count": 0,
      "outputs": []
    },
    {
      "cell_type": "code",
      "metadata": {
        "id": "ITd3a6GeSARb",
        "colab_type": "code",
        "colab": {}
      },
      "source": [
        "# Get No. of Rows & Columns in the data set\n",
        "df.shape"
      ],
      "execution_count": 0,
      "outputs": []
    },
    {
      "cell_type": "code",
      "metadata": {
        "id": "FOBDeeRFSfic",
        "colab_type": "code",
        "colab": {}
      },
      "source": [
        "# Visualize the closing price History in Matplotlib\n",
        "plt.figure(figsize=(16,8))\n",
        "plt.title('APPLE - Closing Price History')\n",
        "plt.plot(df['Close'])\n",
        "plt.xlabel('Date',fontsize=18)\n",
        "plt.ylable('Closing Price USD',fontsize=18)\n",
        "plt.show()\n"
      ],
      "execution_count": 0,
      "outputs": []
    },
    {
      "cell_type": "code",
      "metadata": {
        "id": "GVsHNHYsiuDw",
        "colab_type": "code",
        "colab": {}
      },
      "source": [
        "# Create new DataFrame only using the close column\n",
        "data = df.filter(['close'])\n",
        "#Create the DataFrame to numpy array\n",
        "dataset = data.values\n",
        "#Get the number of rows to train the model on \n",
        "training_data_len = math.ceil(len(dataset)* 0.8)\n",
        "\n",
        "training_data_len"
      ],
      "execution_count": 0,
      "outputs": []
    },
    {
      "cell_type": "code",
      "metadata": {
        "id": "XQGBoNY5jugS",
        "colab_type": "code",
        "colab": {}
      },
      "source": [
        "# Scaling of DataFram\n",
        "scaler = MinMaxScaler(feature_range= (0,1))\n",
        "scaled_data = scaler.fit_transform(dataset)\n",
        "\n",
        "scaled_data"
      ],
      "execution_count": 0,
      "outputs": []
    }
  ]
}