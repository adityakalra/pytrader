{
  "nbformat": 4,
  "nbformat_minor": 0,
  "metadata": {
    "colab": {
      "name": "Tesla_PricePrediction_365",
      "provenance": [],
      "private_outputs": true,
      "collapsed_sections": [],
      "authorship_tag": "ABX9TyNNfM2s2iRC+d93Y13FRMjk",
      "include_colab_link": true
    },
    "kernelspec": {
      "name": "python3",
      "display_name": "Python 3"
    }
  },
  "cells": [
    {
      "cell_type": "markdown",
      "metadata": {
        "id": "view-in-github",
        "colab_type": "text"
      },
      "source": [
        "<a href=\"https://colab.research.google.com/github/adityakalra/pytrader/blob/master/Tesla_PricePrediction_365.ipynb\" target=\"_parent\"><img src=\"https://colab.research.google.com/assets/colab-badge.svg\" alt=\"Open In Colab\"/></a>"
      ]
    },
    {
      "cell_type": "markdown",
      "metadata": {
        "id": "G1d_xwCwN4DU",
        "colab_type": "text"
      },
      "source": [
        "# PROJECT :  PRICE PREDICTION Using LSTM (Artifical Recurrent Neural Network)\n",
        "PRICE PREDICTION --> Stock Market\n",
        "SOURCE --> Yahoo\n",
        "ENVIORNMENT --> COLABS, Keras , Skylearn , Math, Pandas, Matplotlib, Numpy , \n"
      ]
    },
    {
      "cell_type": "code",
      "metadata": {
        "id": "YSGj8c0QNNbB",
        "colab_type": "code",
        "colab": {}
      },
      "source": [
        "# import liabraries\n",
        "import datetime as dt\n",
        "import math\n",
        "import numpy as np  \n",
        "import pandas as pd\n",
        "import matplotlib.pyplot as plt\n",
        "plt.style.use('fivethirtyeight')\n",
        "import pandas_datareader as web\n",
        "from sklearn.preprocessing import MinMaxScaler\n",
        "from keras.models import Sequential\n",
        "from keras.layers import Dense , LSTM"
      ],
      "execution_count": 0,
      "outputs": []
    },
    {
      "cell_type": "code",
      "metadata": {
        "id": "NI0RvVvJReRa",
        "colab_type": "code",
        "colab": {}
      },
      "source": [
        "dat = dt.date.today()-datetime.timedelta(1)\n",
        "print(dat)"
      ],
      "execution_count": 0,
      "outputs": []
    },
    {
      "cell_type": "code",
      "metadata": {
        "id": "mYYNdqqL9iGL",
        "colab_type": "code",
        "colab": {}
      },
      "source": [
        ""
      ],
      "execution_count": 0,
      "outputs": []
    },
    {
      "cell_type": "code",
      "metadata": {
        "id": "8dg76vqvQiER",
        "colab_type": "code",
        "colab": {}
      },
      "source": [
        "# Create DataFrame & get Stock Quote\n",
        "df = web.DataReader ('TSLA', data_source='yahoo', start='2012-01-01',end= dat.strftime('%Y-%m-%d'))\n",
        "#show the DataFrame\n",
        "df"
      ],
      "execution_count": 0,
      "outputs": []
    },
    {
      "cell_type": "code",
      "metadata": {
        "id": "ITd3a6GeSARb",
        "colab_type": "code",
        "colab": {}
      },
      "source": [
        "# Get No. of Rows & Columns in the data set\n",
        "df.shape"
      ],
      "execution_count": 0,
      "outputs": []
    },
    {
      "cell_type": "code",
      "metadata": {
        "id": "FOBDeeRFSfic",
        "colab_type": "code",
        "colab": {}
      },
      "source": [
        "# Visualize the closing price History in Matplotlib\n",
        "plt.figure(figsize=(18,6))\n",
        "plt.title('TESLA - Closing Price')\n",
        "plt.plot(df['Close'])\n",
        "plt.xlabel('Date',fontsize=18)\n",
        "plt.ylabel('Closing Price USD',fontsize=18)\n",
        "plt.show()\n"
      ],
      "execution_count": 0,
      "outputs": []
    },
    {
      "cell_type": "code",
      "metadata": {
        "id": "GVsHNHYsiuDw",
        "colab_type": "code",
        "colab": {}
      },
      "source": [
        "# Create new DataFrame only using the close column\n",
        "data = df.filter(['Close'])\n",
        "#Create the DataFrame to numpy array\n",
        "dataset = data.values\n",
        "#Get the number of rows to train the model on \n",
        "training_data_len = math.ceil(len(dataset)* 0.8)\n",
        "\n",
        "training_data_len"
      ],
      "execution_count": 0,
      "outputs": []
    },
    {
      "cell_type": "code",
      "metadata": {
        "id": "XQGBoNY5jugS",
        "colab_type": "code",
        "colab": {}
      },
      "source": [
        "# Scaling of DataFram\n",
        "scaler = MinMaxScaler( feature_range=(0,1))\n",
        "scaler_data = scaler.fit_transform(dataset)\n",
        "scaler_data"
      ],
      "execution_count": 0,
      "outputs": []
    },
    {
      "cell_type": "code",
      "metadata": {
        "id": "h1vCIHpoQjDE",
        "colab_type": "code",
        "colab": {}
      },
      "source": [
        "# create the training data set\n",
        "# Create the scaled training Data\n",
        "train_data = scaler_data[0:training_data_len, :]\n",
        "# Split the data  into x_train and y_train data sets\n",
        "x_train =[]\n",
        "y_train =[]\n",
        "\n",
        "for i in range (365, len(train_data)):\n",
        "  x_train.append(train_data[i-365:i,0])\n",
        "  y_train.append(train_data[i,0])\n",
        "  if i<= 366:\n",
        "    print(x_train)\n",
        "    print(y_train)\n",
        "    print()"
      ],
      "execution_count": 0,
      "outputs": []
    },
    {
      "cell_type": "code",
      "metadata": {
        "id": "d9wonzivK-kG",
        "colab_type": "code",
        "colab": {}
      },
      "source": [
        "#convert the x_train and y_train to numpy arrays\n",
        "x_train, y_train = np.array(x_train), np.array(y_train)"
      ],
      "execution_count": 0,
      "outputs": []
    },
    {
      "cell_type": "code",
      "metadata": {
        "id": "fDHJ5x9AmiRj",
        "colab_type": "code",
        "colab": {}
      },
      "source": [
        "#Reshape the data for LSTM\n",
        "x_train = np.reshape(x_train,(x_train.shape[0],x_train.shape[1],1))\n",
        "x_train.shape"
      ],
      "execution_count": 0,
      "outputs": []
    },
    {
      "cell_type": "code",
      "metadata": {
        "id": "ZlfxxwZWmu4D",
        "colab_type": "code",
        "colab": {}
      },
      "source": [
        "# Build the LSTM MODEL\n",
        "model = Sequential()\n",
        "model.add(LSTM(50,return_sequences=True,input_shape=(x_train.shape[1], 1)))\n",
        "model.add(LSTM(50,return_sequences=False))\n",
        "model.add(Dense(25))\n",
        "model.add(Dense(1))"
      ],
      "execution_count": 0,
      "outputs": []
    },
    {
      "cell_type": "code",
      "metadata": {
        "id": "WM8gi6bds6ku",
        "colab_type": "code",
        "colab": {}
      },
      "source": [
        "#Compile the Model\n",
        "model.compile(optimizer='adam',loss='mean_squared_error')"
      ],
      "execution_count": 0,
      "outputs": []
    },
    {
      "cell_type": "code",
      "metadata": {
        "id": "PiW3Xqaevn5g",
        "colab_type": "code",
        "colab": {}
      },
      "source": [
        "#Train the Model\n",
        "model.fit(x_train,y_train,batch_size=1,epochs=1)\n"
      ],
      "execution_count": 0,
      "outputs": []
    },
    {
      "cell_type": "code",
      "metadata": {
        "id": "9U_rNcnswx4d",
        "colab_type": "code",
        "colab": {}
      },
      "source": [
        "#Create the testing Data set\n",
        "# Create a new array containing scaled values from index 1543 to 2003\n",
        "test_data =scaler_data[training_data_len -365:, :]\n",
        "#Create the data sets x_test and y_test\n",
        "x_test = []\n",
        "y_test = dataset[training_data_len: , :]\n",
        "\n",
        "for i in range (365,len(test_data)):\n",
        "  x_test.append(test_data[i-365:i,0])"
      ],
      "execution_count": 0,
      "outputs": []
    },
    {
      "cell_type": "code",
      "metadata": {
        "id": "vRbr5vLa17la",
        "colab_type": "code",
        "colab": {}
      },
      "source": [
        "# Convert the data to a numpy Array\n",
        "x_test = np.array(x_test)"
      ],
      "execution_count": 0,
      "outputs": []
    },
    {
      "cell_type": "code",
      "metadata": {
        "id": "vZn-Alzm2JWR",
        "colab_type": "code",
        "colab": {}
      },
      "source": [
        "# Reshape the data\n",
        "x_test = np.reshape(x_test,(x_test.shape[0],x_test.shape[1],1))"
      ],
      "execution_count": 0,
      "outputs": []
    },
    {
      "cell_type": "code",
      "metadata": {
        "id": "SIJ2g3x1V4_8",
        "colab_type": "code",
        "colab": {}
      },
      "source": [
        "x_test"
      ],
      "execution_count": 0,
      "outputs": []
    },
    {
      "cell_type": "code",
      "metadata": {
        "id": "7nP89jwo4Jxi",
        "colab_type": "code",
        "colab": {}
      },
      "source": [
        "from keras.models import Sequential\n",
        "from keras.layers import Dense , LSTM\n",
        "# Get the models Prediction price values\n",
        "predictions = model.predict(x_test)\n",
        "predictions = scaler.inverse_transform(predictions)"
      ],
      "execution_count": 0,
      "outputs": []
    },
    {
      "cell_type": "code",
      "metadata": {
        "id": "HZSu2X8d5sYT",
        "colab_type": "code",
        "colab": {}
      },
      "source": [
        "# Get the root mean squared error [RMSE] is standard deviation of the residuals \n",
        "rmse = np.sqrt(np.mean(predictions-y_test)**2)\n",
        "rmse"
      ],
      "execution_count": 0,
      "outputs": []
    },
    {
      "cell_type": "code",
      "metadata": {
        "id": "SDp0ceq9GYBT",
        "colab_type": "code",
        "colab": {}
      },
      "source": [
        "# Plot the Data\n",
        "train = data [:training_data_len]\n",
        "valid = data [training_data_len:]\n",
        "valid['Predictions'] = predictions\n",
        "#I also want this data to be exported in excel\n",
        "# valid.to_excel('C:\\\\data.xlsx')\n",
        "\n",
        "# this works in normal python"
      ],
      "execution_count": 0,
      "outputs": []
    },
    {
      "cell_type": "code",
      "metadata": {
        "id": "gSREME23V6Qf",
        "colab_type": "code",
        "colab": {}
      },
      "source": [
        "#Show the valid and predicted price\n",
        "valid"
      ],
      "execution_count": 0,
      "outputs": []
    },
    {
      "cell_type": "code",
      "metadata": {
        "id": "2Ee1IF0DWc6W",
        "colab_type": "code",
        "colab": {}
      },
      "source": [
        "#Visualize the data\n",
        "plt.figure(figsize=(17,6))\n",
        "plt.title('Model')\n",
        "plt.xlabel('Date',fontsize=18)\n",
        "plt.ylabel('Close Price',fontsize=18)\n",
        "plt.plot(train['Close'])\n",
        "plt.plot(valid[['Close','Predictions']])\n",
        "plt.legend(['Train','Val','Predictions'],loc='lower right')\n",
        "plt.show()"
      ],
      "execution_count": 0,
      "outputs": []
    }
  ]
}